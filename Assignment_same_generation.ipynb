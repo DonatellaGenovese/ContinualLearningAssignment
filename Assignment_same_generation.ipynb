{
  "nbformat": 4,
  "nbformat_minor": 0,
  "metadata": {
    "colab": {
      "provenance": []
    },
    "kernelspec": {
      "name": "python3",
      "display_name": "Python 3"
    },
    "language_info": {
      "name": "python"
    }
  },
  "cells": [
    {
      "cell_type": "code",
      "execution_count": 2,
      "metadata": {
        "id": "zSubKTuIQ6ND"
      },
      "outputs": [],
      "source": [
        "import torch\n",
        "import torch.nn as nn\n",
        "import torch.nn.functional as F\n",
        "import torchvision\n",
        "import numpy as np\n",
        "from torch.utils.data import Subset, TensorDataset, DataLoader\n",
        "from matplotlib import pyplot as plt\n",
        "import copy\n",
        "import torch.nn.init as init"
      ]
    },
    {
      "cell_type": "code",
      "source": [
        "# Arguments\n",
        "args = {\n",
        "    'lr': 1e-3, #lr for MLP model\n",
        "    'bs': 128, #batch size for both models\n",
        "    'epochs': 5, #epochs for MLP model\n",
        "    'num_tasks': 5, #number of tasks\n",
        "    'dataset': \"MNIST\", #dataset\n",
        "    'num_classes': 10,\n",
        "    'in_size': 28,\n",
        "    'n_channels': 1,\n",
        "    'hidden_size': 400, #hidden size of the VAE\n",
        "    'latent_dim': 100,  # Latent dimension of VAE\n",
        "    'task_names': ['task_0', 'task_1', 'task_2', 'task_3', 'task_4'],\n",
        "    'vae_epochs': 50,\n",
        "    'vae_lr':1e-2,  # Standard learning rate for VAE\n",
        "    'vae_lr_decay': 1e-5,  # Learning rate decay factor\n",
        "    'vae_lr_step_size': 100, # Step size for learning rate decay# Specify task names here# Example number of replay samples\n",
        "}"
      ],
      "metadata": {
        "id": "-JmwK_hkQ-on"
      },
      "execution_count": 3,
      "outputs": []
    },
    {
      "cell_type": "markdown",
      "source": [
        "##Dataset"
      ],
      "metadata": {
        "id": "2JQiSCCPxwrF"
      }
    },
    {
      "cell_type": "code",
      "source": [
        "#function to get dataset\n",
        "def get_dataset(dataroot, dataset):\n",
        "    if dataset == 'MNIST':\n",
        "        mean, std = (0.1307,), (0.3081,)\n",
        "    elif dataset == 'CIFAR10':\n",
        "        mean, std = (0.4914, 0.4822, 0.4465), (0.247, 0.243, 0.261)\n",
        "\n",
        "    transform = torchvision.transforms.Compose([\n",
        "        torchvision.transforms.ToTensor(),\n",
        "        torchvision.transforms.Normalize(mean=mean, std=std),\n",
        "        torchvision.transforms.Lambda(lambda x: x.clamp(0, 1))  # Ensure values are within [0, 1]\n",
        "    ])\n",
        "\n",
        "    train_dataset = torchvision.datasets.__dict__[dataset](\n",
        "        root=dataroot,\n",
        "        train=True,\n",
        "        download=True,\n",
        "        transform=transform\n",
        "    )\n",
        "\n",
        "    val_dataset = torchvision.datasets.__dict__[dataset](\n",
        "        root=dataroot,\n",
        "        train=False,\n",
        "        download=True,\n",
        "        transform=transform\n",
        "    )\n",
        "\n",
        "    return train_dataset, val_dataset\n",
        "\n",
        "#function to split the dataset\n",
        "def split_dataset(dataset, tasks_split):\n",
        "    split_dataset = {}\n",
        "    for e, current_classes in tasks_split.items():\n",
        "        task_indices = np.isin(np.array(dataset.targets), current_classes)\n",
        "        subset_indices = np.where(task_indices)[0]\n",
        "        split_dataset[e] = Subset(dataset, subset_indices)\n",
        "        print(f\"Task {e}: {len(subset_indices)} examples\")\n",
        "    return split_dataset"
      ],
      "metadata": {
        "id": "obDpfwqtRHYh"
      },
      "execution_count": 4,
      "outputs": []
    },
    {
      "cell_type": "markdown",
      "source": [
        "##Metrics and plotting"
      ],
      "metadata": {
        "id": "Ci0gViPUR6qw"
      }
    },
    {
      "cell_type": "code",
      "source": [
        "def dict2array(acc):\n",
        "    num_tasks = len(acc)\n",
        "    first_task = list(acc.keys())[0]\n",
        "    sequence_length = len(acc[first_task]) if isinstance(acc[first_task], list) else num_tasks\n",
        "    acc_array = np.zeros((num_tasks, sequence_length))\n",
        "    for task, val in acc.items():\n",
        "        acc_array[int(task), :] = val\n",
        "    return acc_array\n",
        "\n",
        "\n",
        "def plot_accuracy_matrix(array):\n",
        "    num_tasks = array.shape[1]\n",
        "    array = np.round(array, 2)\n",
        "    fig, ax = plt.subplots()\n",
        "    ax.imshow(array, vmin=np.min(array), vmax=np.max(array))\n",
        "    for i in range(len(array)):\n",
        "        for j in range(array.shape[1]):\n",
        "            ax.text(j,i, array[i,j], va='center', ha='center', c='w', fontsize=15)\n",
        "    ax.set_yticks(np.arange(num_tasks))\n",
        "    ax.set_ylabel('Number of tasks')\n",
        "    ax.set_xticks(np.arange(num_tasks))\n",
        "    ax.set_xlabel('Tasks finished')\n",
        "    ax.set_title(f\"ACC: {np.mean(array[:, -1]):.3f} -- std {np.std(np.mean(array[:, -1])):.3f}\")\n",
        "    plt.show()\n",
        "\n",
        "\n",
        "def plot_acc_over_time(array):\n",
        "    fig, ax = plt.subplots()\n",
        "    for e, acc in enumerate(array):\n",
        "        ax.plot(acc, label=e)\n",
        "    plt.legend()\n",
        "    plt.show()\n",
        "\n",
        "\n",
        "def compute_average_accuracy(array):\n",
        "    num_tasks = len(array)\n",
        "    avg_acc = np.sum(array[:, -1], axis=0)/num_tasks\n",
        "    return avg_acc\n",
        "\n",
        "\n",
        "def compute_backward_transfer(array):\n",
        "    num_tasks = len(array)\n",
        "    diag = np.diag(array)[:-1] # Note, we do not compute backward transfer for the last task!\n",
        "    end_acc = array[:-1, -1]\n",
        "    bwt = np.sum(end_acc - diag)/(num_tasks - 1)\n",
        "    return bwt\n",
        "\n",
        "\n",
        "def compute_forward_transfer(array, b):\n",
        "    num_tasks = len(array)\n",
        "    sub_diag = np.diag(array, k=-1) # Note, we do not compute forward transfer for the first task!\n",
        "    fwt = np.sum(sub_diag - b[1:])/(num_tasks - 1)\n",
        "    return fwt"
      ],
      "metadata": {
        "id": "-PwdhkzxR8YV"
      },
      "execution_count": 5,
      "outputs": []
    },
    {
      "cell_type": "code",
      "source": [
        "class MetricLogger:\n",
        "    def __init__(self):\n",
        "        # Initialize lists to store logged values\n",
        "        self.model_sizes = []\n",
        "        self.vae_model_sizes = []\n",
        "        self.computations = []\n",
        "        self.mul_add_ops = []\n",
        "        self.forward_backward_ops = []\n",
        "        self.initial_model_size = None\n",
        "\n",
        "    # Log the size of the model (number of parameters)\n",
        "    def log_model_size(self, model):\n",
        "        model_size = sum(p.numel() for p in model.parameters())  # Calculate total number of parameters in the model\n",
        "        self.model_sizes.append(model_size)\n",
        "        if self.initial_model_size is None:\n",
        "            self.initial_model_size = model_size  # Set initial model size if not already set\n",
        "\n",
        "    # Log the size of the VAE model (number of parameters)\n",
        "    def log_vae_model_size(self, vae):\n",
        "        vae_model_size = sum(p.numel() for p in vae.parameters())  # Calculate total number of parameters in the VAE model\n",
        "        self.vae_model_sizes.append(vae_model_size)\n",
        "\n",
        "    # Log the number of computational operations\n",
        "    def log_computations(self, operations):\n",
        "        self.computations.append(operations)\n",
        "\n",
        "    def log_mul_add_operations(self, operations):\n",
        "        self.mul_add_ops.append(operations)\n",
        "\n",
        "    def log_forward_backward_operations(self, operations):\n",
        "        self.forward_backward_ops.append(operations)\n",
        "\n",
        "    # Calculate the Model Size Efficiency (MS)\n",
        "    def model_size_efficiency(self):\n",
        "        # Compute the efficiency values for each task\n",
        "        ms_values = [self.initial_model_size / size for size in self.model_sizes]\n",
        "        # Calculate the final MS metric\n",
        "        ms = min(1, sum(ms_values) / len(ms_values))\n",
        "        return ms\n",
        "\n",
        "    # Calculate the Computational Efficiency (CE)\n",
        "    def computational_efficiency(self, epsilon=1):\n",
        "        # Calculate computational efficiency using logged operations\n",
        "        ce_values = []\n",
        "        for mul_add_ops, fwd_bwd_ops in zip(self.mul_add_ops, self.forward_backward_ops):\n",
        "            ce_values.append((fwd_bwd_ops * epsilon) / mul_add_ops)\n",
        "        ce = min(1, sum(ce_values) / len(ce_values))\n",
        "        return ce"
      ],
      "metadata": {
        "id": "qwn4xTUmgv4f"
      },
      "execution_count": 6,
      "outputs": []
    },
    {
      "cell_type": "markdown",
      "source": [
        "##Models"
      ],
      "metadata": {
        "id": "SUb87GB8ydBL"
      }
    },
    {
      "cell_type": "code",
      "source": [
        "import torch.nn.functional as F\n",
        "import torch.nn.init as init\n",
        "\n",
        "class VAE(nn.Module):\n",
        "    def __init__(self, input_dim, hidden_dim=400, latent_dim=100, dropout_prob=0.1, weight_decay=1e-5):\n",
        "        super(VAE, self).__init__()\n",
        "        self.dropout_prob = dropout_prob\n",
        "        self.weight_decay = weight_decay\n",
        "\n",
        "        # Encoder layers\n",
        "        self.encoder = nn.Sequential(\n",
        "            nn.Linear(input_dim, hidden_dim),\n",
        "            nn.BatchNorm1d(hidden_dim),\n",
        "            nn.ReLU(),\n",
        "            nn.Dropout(p=dropout_prob),\n",
        "            nn.Linear(hidden_dim, hidden_dim),\n",
        "            nn.BatchNorm1d(hidden_dim),\n",
        "            nn.ReLU(),\n",
        "            nn.Dropout(p=dropout_prob)\n",
        "        )\n",
        "        self.fc21 = nn.Linear(hidden_dim, latent_dim)\n",
        "        self.fc22 = nn.Linear(hidden_dim, latent_dim)\n",
        "\n",
        "        # Decoder layers\n",
        "        self.decoder = nn.Sequential(\n",
        "            nn.Linear(latent_dim, hidden_dim),\n",
        "            nn.BatchNorm1d(hidden_dim),\n",
        "            nn.ReLU(),\n",
        "            nn.Dropout(p=dropout_prob),\n",
        "            nn.Linear(hidden_dim, hidden_dim),\n",
        "            nn.BatchNorm1d(hidden_dim),\n",
        "            nn.ReLU(),\n",
        "            nn.Dropout(p=dropout_prob),\n",
        "            nn.Linear(hidden_dim, input_dim),\n",
        "            nn.Sigmoid()\n",
        "        )\n",
        "\n",
        "        self.initialize_parameters()\n",
        "\n",
        "    def initialize_parameters(self):\n",
        "        # Xavier/Glorot initialization for encoder and decoder layers\n",
        "        for layer in self.encoder:\n",
        "            if isinstance(layer, nn.Linear):\n",
        "                nn.init.xavier_uniform_(layer.weight)\n",
        "                nn.init.constant_(layer.bias, 0)\n",
        "        for layer in self.decoder:\n",
        "            if isinstance(layer, nn.Linear):\n",
        "                nn.init.kaiming_uniform_(layer.weight, mode='fan_in', nonlinearity='relu')\n",
        "                nn.init.constant_(layer.bias, 0)\n",
        "\n",
        "    def encode(self, x):\n",
        "        # Encoder forward pass\n",
        "        h1 = self.encoder(x)\n",
        "        return self.fc21(h1), self.fc22(h1)\n",
        "\n",
        "    def reparameterize(self, mu, logvar):\n",
        "        # Reparameterization trick to sample from the latent space\n",
        "        std = torch.exp(0.5 * logvar)\n",
        "        eps = torch.randn_like(std)\n",
        "        return mu + eps * std\n",
        "\n",
        "    def decode(self, z):\n",
        "        # Decoder forward pass\n",
        "        return self.decoder(z)\n",
        "\n",
        "    def forward(self, x):\n",
        "        # Forward pass through encoder and decoder\n",
        "        mu, logvar = self.encode(x)\n",
        "        z = self.reparameterize(mu, logvar)\n",
        "        return self.decode(z), mu, logvar\n",
        "\n",
        "    def loss_function(self, recon_x, x, mu, logvar):\n",
        "        # Compute reconstruction loss (BCE) and KL divergence (KLD)\n",
        "        BCE = F.binary_cross_entropy(recon_x, x, reduction='sum')\n",
        "        KLD = -0.5 * torch.sum(1 + logvar - mu.pow(2) - logvar.exp())\n",
        "        return BCE + KLD\n",
        "\n",
        "    def configure_optimizers(self):\n",
        "        # Adam optimizer with weight decay\n",
        "        optimizer = torch.optim.Adam(self.parameters(), lr=0.001, weight_decay=self.weight_decay)\n",
        "        return optimizer\n",
        "\n",
        "    def generate_samples(self, num_samples):\n",
        "        # Generate samples from the VAE model\n",
        "        with torch.no_grad():\n",
        "            z = torch.randn(num_samples, self.fc21.out_features).to(next(self.parameters()).device)\n",
        "            samples = self.decode(z).cpu()\n",
        "        return samples"
      ],
      "metadata": {
        "id": "VB-0j5aQRIh2"
      },
      "execution_count": 7,
      "outputs": []
    },
    {
      "cell_type": "code",
      "source": [
        "# MLP Model\n",
        "class MLP(nn.Module):\n",
        "    def __init__(self, args):\n",
        "        super(MLP, self).__init__()\n",
        "        self.args = args\n",
        "        input_size = args['in_size'] ** 2 * args['n_channels']\n",
        "        hidden_size = args['hidden_size']\n",
        "        output_size = args['num_classes']\n",
        "        self.layers = nn.Sequential(\n",
        "            nn.Linear(input_size, hidden_size),\n",
        "            nn.ReLU(),\n",
        "            nn.Linear(hidden_size, hidden_size),\n",
        "            nn.ReLU(),\n",
        "            nn.Linear(hidden_size, output_size)\n",
        "        )\n",
        "\n",
        "    def forward(self, x):\n",
        "        return self.layers(x.view(x.size(0), -1))"
      ],
      "metadata": {
        "id": "PHBVMOflRSlR"
      },
      "execution_count": 8,
      "outputs": []
    },
    {
      "cell_type": "markdown",
      "source": [
        "##Agent"
      ],
      "metadata": {
        "id": "vSL2gPP6y57N"
      }
    },
    {
      "cell_type": "code",
      "source": [
        "class Agent:\n",
        "    def __init__(self, args, train_datasets, val_datasets, saved_model=None):\n",
        "        self.device = torch.device('cuda' if torch.cuda.is_available() else 'cpu')\n",
        "        self.args = args\n",
        "        self.model = MLP(self.args).to(self.device)\n",
        "        #self.previous_model = None  # Initialize previous model as None\n",
        "        self.vae = VAE(self.args['in_size'] ** 2 * self.args['n_channels']).to(self.device)\n",
        "        self.optimizer = torch.optim.Adam(self.model.parameters(), lr=self.args['lr'])\n",
        "        self.vae_optimizer = torch.optim.Adam(self.vae.parameters(), lr=self.args['vae_lr'])\n",
        "        self.criterion = torch.nn.CrossEntropyLoss()\n",
        "        self.train_datasets = train_datasets  # Initialize train_datasets attribute\n",
        "        self.val_datasets = val_datasets\n",
        "        self.reset_acc()\n",
        "        self.vae_epochs = self.args['vae_epochs']\n",
        "        self.vae_lr = self.args['vae_lr']  # Define initial learning rate for VAE training\n",
        "        self.vae_lr_decay = self.args['vae_lr_decay']  # Define learning rate decay factor for VAE\n",
        "        self.vae_lr_step_size = self.args['vae_lr_step_size']  # Define step size for learning rate decay for VAE\n",
        "        self.metric_logger = MetricLogger()\n",
        "        self.computations =0\n",
        "\n",
        "        #if saved_model:\n",
        "         #   self.previous_model = saved_model\n",
        "\n",
        "    def reset_acc(self):\n",
        "        self.acc = {key: [] for key in self.train_datasets.keys()}\n",
        "        self.acc_end = {key: [] for key in self.train_datasets.keys()}\n",
        "\n",
        "    def train(self):\n",
        "        for task, data in self.train_datasets.items():\n",
        "            print(f\"Task {task}\")\n",
        "            int_task = int(task)\n",
        "            N_tasks_so_far = int_task + 1  # Number of tasks encountered so far\n",
        "\n",
        "            if task == '0':\n",
        "                loader = DataLoader(data, batch_size=self.args['bs'], shuffle=True)\n",
        "            else:\n",
        "                dataset_size = len(data)\n",
        "                replay_data, replay_labels = self.replay_data(dataset_size)\n",
        "                all_data = [data[idx][0].view(1, 28, 28) for idx in range(len(data))]\n",
        "                all_targets = [data[idx][1] for idx in range(len(data))]\n",
        "                all_data_tensor = torch.cat(all_data, dim=0).to(self.device)\n",
        "                all_targets_tensor = torch.tensor(all_targets).to(self.device)\n",
        "\n",
        "                if replay_data is not None:\n",
        "                    all_data = torch.cat((all_data_tensor, replay_data.view(-1, 28, 28)))\n",
        "                    all_labels = torch.cat((all_targets_tensor, replay_labels))\n",
        "                else:\n",
        "                    all_data = data.dataset.data\n",
        "                    all_labels = data.dataset.targets\n",
        "\n",
        "                loader = DataLoader(TensorDataset(all_data, all_labels), batch_size=self.args['bs'], shuffle=True)\n",
        "\n",
        "            for epoch in range(self.args['epochs']):\n",
        "                epoch_loss = 0\n",
        "                total = 0\n",
        "                correct = 0\n",
        "                computations = 0  # Initialize computation count for this epoch\n",
        "                for e, (X, y) in enumerate(loader):\n",
        "                    X, y = X.to(self.device), y.to(self.device)\n",
        "\n",
        "                    # Count the number of operations\n",
        "                    operations = X.numel() * y.numel() * 2  # Rough estimation of mul-add operations\n",
        "                    self.computations += operations\n",
        "                    self.metric_logger.log_mul_add_operations(operations)\n",
        "\n",
        "                    output = self.model(X)\n",
        "                    L_current = self.criterion(output, y)\n",
        "\n",
        "                    if int_task > 0:\n",
        "                        replay_data, replay_labels = self.replay_data(len(X))\n",
        "                        if replay_data is not None and replay_labels is not None:\n",
        "                            replay_output = self.model(replay_data)\n",
        "                            L_replay = self.criterion(replay_output, replay_labels)\n",
        "                        else:\n",
        "                            L_replay = 0\n",
        "\n",
        "                        #Weighted sum of the current task loss and replay loss\n",
        "                        loss = (1 / N_tasks_so_far) * L_current + (1 - 1 / N_tasks_so_far) * L_replay\n",
        "                    else:\n",
        "                        loss = L_current\n",
        "\n",
        "                    self.optimizer.zero_grad()\n",
        "                    loss.backward()\n",
        "                    self.optimizer.step()\n",
        "                    epoch_loss += loss.item()\n",
        "                    correct += torch.sum(torch.topk(output, axis=1, k=1)[1].squeeze(1) == y)\n",
        "                    total += len(X)\n",
        "                    if e % 50 == 0:\n",
        "                        self.validate()\n",
        "                print(f\"MLP Training Epoch {epoch}: Loss {epoch_loss / (e + 1):.3f} Acc: {correct / total:.3f}\")\n",
        "\n",
        "                # Log computations after each epoch\n",
        "                self.metric_logger.log_computations(computations)\n",
        "\n",
        "            self.metric_logger.log_model_size(self.model) #Log model size after training the current task\n",
        "            self.validate(end_of_epoch=True)\n",
        "\n",
        "            if task != '4':\n",
        "               self.train_vae(task, loader)  #Pass the loader directly to train_vae\n",
        "\n",
        "    def train_vae(self, task, loader):\n",
        "        self.vae_optimizer = torch.optim.Adam(self.vae.parameters(), lr=self.vae_lr)\n",
        "        vae_scheduler = torch.optim.lr_scheduler.StepLR(self.vae_optimizer, step_size=self.vae_lr_step_size, gamma=self.vae_lr_decay)\n",
        "        task = int(task)\n",
        "        N_tasks_so_far = task + 1\n",
        "\n",
        "        for epoch in range(self.vae_epochs):\n",
        "            self.vae.train()\n",
        "            train_loss = 0\n",
        "            recon_loss = 0\n",
        "            for batch_idx, (data, _) in enumerate(loader):\n",
        "                data = data.to(self.device)\n",
        "                self.vae_optimizer.zero_grad()\n",
        "                operations = data.numel() * 2  # Example of forward-backward operations\n",
        "                self.computations += operations\n",
        "                self.metric_logger.log_forward_backward_operations(operations)\n",
        "\n",
        "                recon_batch, mu, logvar = self.vae(data.view(-1, self.args['in_size'] ** 2 * self.args['n_channels']))\n",
        "                L_current = self.vae.loss_function(recon_batch, data.view(-1, self.args['in_size'] ** 2 * self.args['n_channels']), mu, logvar)\n",
        "\n",
        "                if task > 0:\n",
        "                    replay_data, replay_labels = self.replay_data(len(data))  # Replay data length equal to batch size\n",
        "                    if replay_data is not None and replay_labels is not None:\n",
        "                        replay_recon_batch, replay_mu, replay_logvar = self.vae(replay_data)\n",
        "                        L_replay = self.vae.loss_function(replay_recon_batch, replay_data, replay_mu, replay_logvar)\n",
        "                    else:\n",
        "                        L_replay = 0\n",
        "\n",
        "                    # Weighted sum of the current task loss and replay loss\n",
        "                    loss = (1 / N_tasks_so_far) * L_current + (1 - 1 / N_tasks_so_far) * L_replay\n",
        "                else:\n",
        "                    loss = L_current\n",
        "\n",
        "                loss.backward()\n",
        "                train_loss += loss.item()\n",
        "                recon_loss += loss.item() / len(loader.dataset)\n",
        "                self.vae_optimizer.step()\n",
        "\n",
        "            vae_scheduler.step()\n",
        "            print(f\"VAE Epoch {epoch + 1}: Loss {train_loss / len(loader):.6f}, Reconstruction Loss {recon_loss:.6f}, Learning Rate: {vae_scheduler.get_last_lr()[0]:.6f}\")\n",
        "            self.metric_logger.log_vae_model_size(self.vae)\n",
        "\n",
        "        self.metric_logger.log_computations(self.computations)\n",
        "        # Generate and display 40 samples at the end of each VAE training\n",
        "        with torch.no_grad():\n",
        "            samples = self.vae.generate_samples(num_samples=40).to(self.device)\n",
        "            plt.figure(figsize=(8, 8))\n",
        "            for i in range(40):\n",
        "                plt.subplot(5, 8, i + 1)\n",
        "                plt.imshow(samples[i].cpu().view(28, 28), cmap='gray')\n",
        "                plt.axis('off')\n",
        "            plt.show()\n",
        "\n",
        "    def replay_data(self, num_samples):\n",
        "        self.vae.eval()  # Set the VAE model to evaluation mode\n",
        "        self.model.eval()  # Ensure the previous model is in evaluation mode\n",
        "        with torch.no_grad():  # Disable gradient calculation\n",
        "            # Generate latent space samples\n",
        "            z = torch.randn(num_samples, self.args['latent_dim']).to(self.device)\n",
        "            generated_data = self.vae.decode(z)\n",
        "            pseudo_labels = self.model(generated_data).argmax(dim=1)\n",
        "\n",
        "            # Check if the generated data is valid\n",
        "            if not torch.isfinite(generated_data).all() or not torch.isfinite(pseudo_labels).all() or pseudo_labels.min() < 0 or pseudo_labels.max() >= self.args['num_classes']:\n",
        "                print(\"Warning: The generated data or pseudo-labels are invalid.\")\n",
        "                return None, None\n",
        "\n",
        "        return generated_data.to(self.device), pseudo_labels.to(self.device)\n",
        "\n",
        "    def validate(self, end_of_epoch=False):\n",
        "        self.model.eval()\n",
        "        for task, data in self.val_datasets.items():\n",
        "            loader = DataLoader(data, batch_size=self.args['bs'], shuffle=True)\n",
        "            correct, total = 0, 0\n",
        "            val_loss = 0\n",
        "            for e, (X, y) in enumerate(loader):\n",
        "                X, y = X.to(self.device), y.to(self.device)\n",
        "                output = self.model(X)\n",
        "                loss = self.criterion(output, y)\n",
        "                val_loss += loss.item()\n",
        "                correct += torch.sum(torch.topk(output, axis=1, k=1)[1].squeeze(1) == y).item()\n",
        "                total += len(X)\n",
        "            avg_val_loss = val_loss / len(loader)\n",
        "            self.acc[task].append(correct / total)\n",
        "            if end_of_epoch:\n",
        "                self.acc_end[task].append(correct / total)\n",
        "        self.model.train()"
      ],
      "metadata": {
        "id": "sf4X2HfhRVSh"
      },
      "execution_count": 9,
      "outputs": []
    },
    {
      "cell_type": "code",
      "source": [
        "from random import shuffle\n",
        "\n",
        "# Define the classes\n",
        "classes = list(range(args['num_classes']))\n",
        "shuffle(classes)\n",
        "class_split = {str(i): classes[i*2: (i+1)*2] for i in range(args['num_tasks'])}\n",
        "args['task_names'] = list(class_split.keys())"
      ],
      "metadata": {
        "id": "Dn4R7-0ORl21"
      },
      "execution_count": 10,
      "outputs": []
    },
    {
      "cell_type": "code",
      "source": [
        "class_split"
      ],
      "metadata": {
        "colab": {
          "base_uri": "https://localhost:8080/"
        },
        "id": "giTZRWcavjUf",
        "outputId": "c20830f3-ce73-4cf0-9643-20c8c6ead460"
      },
      "execution_count": 11,
      "outputs": [
        {
          "output_type": "execute_result",
          "data": {
            "text/plain": [
              "{'0': [0, 7], '1': [5, 1], '2': [6, 9], '3': [3, 8], '4': [2, 4]}"
            ]
          },
          "metadata": {},
          "execution_count": 11
        }
      ]
    },
    {
      "cell_type": "code",
      "source": [
        "train, test = get_dataset(dataroot='../data/', dataset=args['dataset'])\n",
        "train_tasks = split_dataset(train, class_split)\n",
        "val_tasks = split_dataset(test, class_split)"
      ],
      "metadata": {
        "colab": {
          "base_uri": "https://localhost:8080/"
        },
        "id": "eHE9wVIL8TDl",
        "outputId": "cf95e7c6-717d-42e2-95ec-11c328af7432"
      },
      "execution_count": 12,
      "outputs": [
        {
          "output_type": "stream",
          "name": "stdout",
          "text": [
            "Downloading http://yann.lecun.com/exdb/mnist/train-images-idx3-ubyte.gz\n",
            "Failed to download (trying next):\n",
            "HTTP Error 403: Forbidden\n",
            "\n",
            "Downloading https://ossci-datasets.s3.amazonaws.com/mnist/train-images-idx3-ubyte.gz\n",
            "Downloading https://ossci-datasets.s3.amazonaws.com/mnist/train-images-idx3-ubyte.gz to ../data/MNIST/raw/train-images-idx3-ubyte.gz\n"
          ]
        },
        {
          "output_type": "stream",
          "name": "stderr",
          "text": [
            "100%|██████████| 9912422/9912422 [00:00<00:00, 53690624.92it/s]\n"
          ]
        },
        {
          "output_type": "stream",
          "name": "stdout",
          "text": [
            "Extracting ../data/MNIST/raw/train-images-idx3-ubyte.gz to ../data/MNIST/raw\n",
            "\n",
            "Downloading http://yann.lecun.com/exdb/mnist/train-labels-idx1-ubyte.gz\n",
            "Failed to download (trying next):\n",
            "HTTP Error 403: Forbidden\n",
            "\n",
            "Downloading https://ossci-datasets.s3.amazonaws.com/mnist/train-labels-idx1-ubyte.gz\n",
            "Downloading https://ossci-datasets.s3.amazonaws.com/mnist/train-labels-idx1-ubyte.gz to ../data/MNIST/raw/train-labels-idx1-ubyte.gz\n"
          ]
        },
        {
          "output_type": "stream",
          "name": "stderr",
          "text": [
            "100%|██████████| 28881/28881 [00:00<00:00, 1661692.12it/s]\n"
          ]
        },
        {
          "output_type": "stream",
          "name": "stdout",
          "text": [
            "Extracting ../data/MNIST/raw/train-labels-idx1-ubyte.gz to ../data/MNIST/raw\n",
            "\n",
            "Downloading http://yann.lecun.com/exdb/mnist/t10k-images-idx3-ubyte.gz\n",
            "Failed to download (trying next):\n",
            "HTTP Error 403: Forbidden\n",
            "\n",
            "Downloading https://ossci-datasets.s3.amazonaws.com/mnist/t10k-images-idx3-ubyte.gz\n",
            "Downloading https://ossci-datasets.s3.amazonaws.com/mnist/t10k-images-idx3-ubyte.gz to ../data/MNIST/raw/t10k-images-idx3-ubyte.gz\n"
          ]
        },
        {
          "output_type": "stream",
          "name": "stderr",
          "text": [
            "100%|██████████| 1648877/1648877 [00:00<00:00, 13547395.86it/s]\n"
          ]
        },
        {
          "output_type": "stream",
          "name": "stdout",
          "text": [
            "Extracting ../data/MNIST/raw/t10k-images-idx3-ubyte.gz to ../data/MNIST/raw\n",
            "\n",
            "Downloading http://yann.lecun.com/exdb/mnist/t10k-labels-idx1-ubyte.gz\n",
            "Failed to download (trying next):\n",
            "HTTP Error 403: Forbidden\n",
            "\n",
            "Downloading https://ossci-datasets.s3.amazonaws.com/mnist/t10k-labels-idx1-ubyte.gz\n",
            "Downloading https://ossci-datasets.s3.amazonaws.com/mnist/t10k-labels-idx1-ubyte.gz to ../data/MNIST/raw/t10k-labels-idx1-ubyte.gz\n"
          ]
        },
        {
          "output_type": "stream",
          "name": "stderr",
          "text": [
            "100%|██████████| 4542/4542 [00:00<00:00, 2306080.23it/s]"
          ]
        },
        {
          "output_type": "stream",
          "name": "stdout",
          "text": [
            "Extracting ../data/MNIST/raw/t10k-labels-idx1-ubyte.gz to ../data/MNIST/raw\n",
            "\n",
            "Task 0: 12188 examples\n",
            "Task 1: 12163 examples\n",
            "Task 2: 11867 examples\n",
            "Task 3: 11982 examples\n",
            "Task 4: 11800 examples\n",
            "Task 0: 2008 examples\n",
            "Task 1: 2027 examples\n",
            "Task 2: 1967 examples\n",
            "Task 3: 1984 examples\n",
            "Task 4: 2014 examples\n"
          ]
        },
        {
          "output_type": "stream",
          "name": "stderr",
          "text": [
            "\n"
          ]
        }
      ]
    },
    {
      "cell_type": "code",
      "source": [
        "# Initialize the Agent\n",
        "agent = Agent(args, train_datasets=train_tasks, val_datasets=val_tasks)\n",
        "\n",
        "agent.validate()\n",
        "random_model_acc = [i[0] for i in agent.acc.values()]\n",
        "agent.reset_acc()\n",
        "\n",
        "# Train the Agent\n",
        "agent.train()"
      ],
      "metadata": {
        "colab": {
          "base_uri": "https://localhost:8080/",
          "height": 1000
        },
        "id": "OXAkF7Re8-QT",
        "outputId": "4358b07d-84b6-4eb7-9c25-ae8204b37962"
      },
      "execution_count": null,
      "outputs": [
        {
          "output_type": "stream",
          "name": "stdout",
          "text": [
            "Task 0\n",
            "MLP Training Epoch 0: Loss 0.111 Acc: 0.971\n",
            "MLP Training Epoch 1: Loss 0.009 Acc: 0.997\n",
            "MLP Training Epoch 2: Loss 0.007 Acc: 0.998\n",
            "MLP Training Epoch 3: Loss 0.001 Acc: 0.999\n",
            "MLP Training Epoch 4: Loss 0.001 Acc: 1.000\n",
            "VAE Epoch 1: Loss 20690.379550, Reconstruction Loss 162.969842, Learning Rate: 0.010000\n",
            "VAE Epoch 2: Loss 16077.448527, Reconstruction Loss 126.635630, Learning Rate: 0.010000\n",
            "VAE Epoch 3: Loss 14532.182571, Reconstruction Loss 114.464188, Learning Rate: 0.010000\n",
            "VAE Epoch 4: Loss 13766.255290, Reconstruction Loss 108.431286, Learning Rate: 0.010000\n",
            "VAE Epoch 5: Loss 13163.087944, Reconstruction Loss 103.680378, Learning Rate: 0.010000\n",
            "VAE Epoch 6: Loss 12758.595983, Reconstruction Loss 100.494356, Learning Rate: 0.010000\n",
            "VAE Epoch 7: Loss 12513.872197, Reconstruction Loss 98.566765, Learning Rate: 0.010000\n",
            "VAE Epoch 8: Loss 12302.399058, Reconstruction Loss 96.901076, Learning Rate: 0.010000\n",
            "VAE Epoch 9: Loss 12182.254051, Reconstruction Loss 95.954741, Learning Rate: 0.010000\n",
            "VAE Epoch 10: Loss 12085.718475, Reconstruction Loss 95.194369, Learning Rate: 0.010000\n",
            "VAE Epoch 11: Loss 11958.000626, Reconstruction Loss 94.188387, Learning Rate: 0.010000\n",
            "VAE Epoch 12: Loss 11836.948194, Reconstruction Loss 93.234905, Learning Rate: 0.010000\n",
            "VAE Epoch 13: Loss 11801.327298, Reconstruction Loss 92.954334, Learning Rate: 0.010000\n",
            "VAE Epoch 14: Loss 11747.412671, Reconstruction Loss 92.529670, Learning Rate: 0.010000\n",
            "VAE Epoch 15: Loss 11717.533201, Reconstruction Loss 92.294321, Learning Rate: 0.010000\n",
            "VAE Epoch 16: Loss 11571.873146, Reconstruction Loss 91.147015, Learning Rate: 0.010000\n",
            "VAE Epoch 17: Loss 11567.454023, Reconstruction Loss 91.112208, Learning Rate: 0.010000\n",
            "VAE Epoch 18: Loss 11497.691182, Reconstruction Loss 90.562714, Learning Rate: 0.010000\n",
            "VAE Epoch 19: Loss 11485.321894, Reconstruction Loss 90.465286, Learning Rate: 0.010000\n",
            "VAE Epoch 20: Loss 11460.729513, Reconstruction Loss 90.271581, Learning Rate: 0.010000\n",
            "VAE Epoch 21: Loss 11407.162483, Reconstruction Loss 89.849655, Learning Rate: 0.010000\n",
            "VAE Epoch 22: Loss 11387.536336, Reconstruction Loss 89.695068, Learning Rate: 0.010000\n",
            "VAE Epoch 23: Loss 11347.531433, Reconstruction Loss 89.379965, Learning Rate: 0.010000\n",
            "VAE Epoch 24: Loss 11325.266825, Reconstruction Loss 89.204596, Learning Rate: 0.010000\n",
            "VAE Epoch 25: Loss 11312.759727, Reconstruction Loss 89.106083, Learning Rate: 0.010000\n",
            "VAE Epoch 26: Loss 11259.612656, Reconstruction Loss 88.687464, Learning Rate: 0.010000\n",
            "VAE Epoch 27: Loss 11283.202372, Reconstruction Loss 88.873271, Learning Rate: 0.010000\n",
            "VAE Epoch 28: Loss 11223.306994, Reconstruction Loss 88.401499, Learning Rate: 0.010000\n",
            "VAE Epoch 29: Loss 11150.142456, Reconstruction Loss 87.825211, Learning Rate: 0.010000\n",
            "VAE Epoch 30: Loss 11149.517761, Reconstruction Loss 87.820291, Learning Rate: 0.010000\n",
            "VAE Epoch 31: Loss 11156.829463, Reconstruction Loss 87.877882, Learning Rate: 0.010000\n",
            "VAE Epoch 32: Loss 11138.205409, Reconstruction Loss 87.731188, Learning Rate: 0.010000\n",
            "VAE Epoch 33: Loss 11160.063614, Reconstruction Loss 87.903356, Learning Rate: 0.010000\n",
            "VAE Epoch 34: Loss 11146.259712, Reconstruction Loss 87.794629, Learning Rate: 0.010000\n",
            "VAE Epoch 35: Loss 11113.331340, Reconstruction Loss 87.535265, Learning Rate: 0.010000\n",
            "VAE Epoch 36: Loss 11068.638158, Reconstruction Loss 87.183235, Learning Rate: 0.010000\n",
            "VAE Epoch 37: Loss 11057.672483, Reconstruction Loss 87.096862, Learning Rate: 0.010000\n",
            "VAE Epoch 38: Loss 11056.184296, Reconstruction Loss 87.085140, Learning Rate: 0.010000\n",
            "VAE Epoch 39: Loss 11047.872696, Reconstruction Loss 87.019673, Learning Rate: 0.010000\n",
            "VAE Epoch 40: Loss 11045.317668, Reconstruction Loss 86.999548, Learning Rate: 0.010000\n",
            "VAE Epoch 41: Loss 11066.619286, Reconstruction Loss 87.167333, Learning Rate: 0.010000\n",
            "VAE Epoch 42: Loss 10996.368472, Reconstruction Loss 86.613995, Learning Rate: 0.010000\n",
            "VAE Epoch 43: Loss 10958.440681, Reconstruction Loss 86.315253, Learning Rate: 0.010000\n",
            "VAE Epoch 44: Loss 10980.582115, Reconstruction Loss 86.489652, Learning Rate: 0.010000\n",
            "VAE Epoch 45: Loss 10989.509104, Reconstruction Loss 86.559967, Learning Rate: 0.010000\n",
            "VAE Epoch 46: Loss 10975.606018, Reconstruction Loss 86.450458, Learning Rate: 0.010000\n",
            "VAE Epoch 47: Loss 10986.555311, Reconstruction Loss 86.536701, Learning Rate: 0.010000\n",
            "VAE Epoch 48: Loss 10939.561165, Reconstruction Loss 86.166547, Learning Rate: 0.010000\n",
            "VAE Epoch 49: Loss 10946.185771, Reconstruction Loss 86.218726, Learning Rate: 0.010000\n",
            "VAE Epoch 50: Loss 10932.021805, Reconstruction Loss 86.107162, Learning Rate: 0.010000\n"
          ]
        },
        {
          "output_type": "display_data",
          "data": {
            "text/plain": [
              "<Figure size 800x800 with 40 Axes>"
            ],
            "image/png": "[encoded data removed]"
          },
          "metadata": {}
        },
        {
          "output_type": "stream",
          "name": "stdout",
          "text": [
            "Task 1\n",
            "MLP Training Epoch 0: Loss 0.163 Acc: 0.944\n",
            "MLP Training Epoch 1: Loss 0.028 Acc: 0.987\n",
            "MLP Training Epoch 2: Loss 0.019 Acc: 0.991\n",
            "MLP Training Epoch 3: Loss 0.016 Acc: 0.993\n"
          ]
        }
      ]
    },
    {
      "cell_type": "code",
      "source": [
        "acc_at_end_arr = dict2array(agent.acc_end)\n",
        "plot_accuracy_matrix(acc_at_end_arr)\n",
        "\n",
        "acc_arr = dict2array(agent.acc)\n",
        "plot_acc_over_time(acc_arr)\n",
        "\n",
        "print(f\"The average accuracy at the end of sequence is: {compute_average_accuracy(acc_at_end_arr):.3f}\")\n",
        "print(f\"BWT:'{compute_backward_transfer(acc_at_end_arr):.3f}'\")\n",
        "print(f\"FWT:'{compute_forward_transfer(acc_at_end_arr, random_model_acc):.3f}'\")"
      ],
      "metadata": {
        "id": "xIpiOlgjzD3w"
      },
      "execution_count": null,
      "outputs": []
    },
    {
      "cell_type": "code",
      "source": [
        "logger=agent.metric_logger\n",
        "logger_vae = ([0] + logger.vae_model_sizes)\n",
        "logger_model = logger.model_sizes\n",
        "logger.model_sizes = [x + y for x, y in zip(logger_model, logger_vae)]\n",
        "model_size_efficiency = agent.metric_logger.model_size_efficiency()\n"
      ],
      "metadata": {
        "id": "qphQ4_9yG_3X"
      },
      "execution_count": null,
      "outputs": []
    },
    {
      "cell_type": "code",
      "source": [
        "print(f\"Model Size Efficiency: {model_size_efficiency:.3f}\")\n",
        "print(\"The computational efficiency is:'{compute_backward_transfer(acc_at_end_arr):.3f}'\")\n"
      ],
      "metadata": {
        "id": "WOa_lb_pY3IZ"
      },
      "execution_count": null,
      "outputs": []
    },
    {
      "cell_type": "code",
      "source": [
        "model_size_efficiency"
      ],
      "metadata": {
        "id": "wLRSBsdwY5Q_"
      },
      "execution_count": null,
      "outputs": []
    },
    {
      "cell_type": "code",
      "source": [
        "print(f\"Model Size Efficiency: {model_size_efficiency:.3f}\")\n",
        "print(f\"Computational Efficiency: {computational_efficiency:.3f}\")"
      ],
      "metadata": {
        "id": "LtvJSOwhG9zR"
      },
      "execution_count": null,
      "outputs": []
    },
    {
      "cell_type": "code",
      "source": [
        "# After training\n",
        "ce = logger.computational_efficiency()\n",
        "print(f\"Computational Efficiency: {ce:.3f}\")"
      ],
      "metadata": {
        "id": "HjDLOaWFxQkQ"
      },
      "execution_count": null,
      "outputs": []
    }
  ]
}